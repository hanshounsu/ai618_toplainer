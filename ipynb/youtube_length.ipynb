{
 "cells": [
  {
   "cell_type": "code",
   "execution_count": null,
   "metadata": {},
   "outputs": [],
   "source": [
    "import librosa\n",
    "import os\n",
    "import soundfile as sf\n",
    "PATH = './youtube_wav'\n",
    "from pathlib import Path"
   ]
  },
  {
   "cell_type": "code",
   "execution_count": null,
   "metadata": {},
   "outputs": [],
   "source": [
    "artist_list = list(Path(PATH).glob('*'))\n",
    "artist_list = [x.name for x in artist_list]\n",
    "print(artist_list)\n",
    "wav_dict = {}\n",
    "for artist in artist_list:\n",
    "    artist_wav_list = list(Path(os.path.join(PATH, artist)).glob('*.wav'))\n",
    "    wav_dict[artist] = artist_wav_list"
   ]
  },
  {
   "cell_type": "code",
   "execution_count": null,
   "metadata": {},
   "outputs": [],
   "source": [
    "wav_dict['01_yebit']"
   ]
  },
  {
   "cell_type": "code",
   "execution_count": null,
   "metadata": {},
   "outputs": [],
   "source": [
    "length_dict = {}\n",
    "sr_dict = {}\n",
    "for artist in artist_list:\n",
    "    length = 0\n",
    "    srs = []\n",
    "    for wav_path in wav_dict[artist]:\n",
    "        y, sr = sf.read(str(wav_path))\n",
    "        length += y.shape[0]/sr\n",
    "        srs.append(sr)\n",
    "    length_dict[artist] = length\n",
    "    sr_dict[artist] = srs\n"
   ]
  },
  {
   "cell_type": "code",
   "execution_count": null,
   "metadata": {},
   "outputs": [],
   "source": [
    "print(length_dict)\n",
    "print(sr_dict['01_yebit'])"
   ]
  },
  {
   "cell_type": "code",
   "execution_count": null,
   "metadata": {},
   "outputs": [],
   "source": [
    "import numpy as np\n",
    "from matplotlib import pyplot as plt\n",
    "for artist in artist_list:\n",
    "    counts, bins = np.histogram(sr_dict[artist])\n",
    "    fig = plt.figure(figsize=(4,4))\n",
    "    plt.hist(bins[:-1], bins, weights=counts)\n",
    "    plt.xlabel('pitch bend amount (tone)')"
   ]
  },
  {
   "cell_type": "code",
   "execution_count": null,
   "metadata": {},
   "outputs": [],
   "source": []
  }
 ],
 "metadata": {
  "kernelspec": {
   "display_name": "guitar",
   "language": "python",
   "name": "python3"
  },
  "language_info": {
   "codemirror_mode": {
    "name": "ipython",
    "version": 3
   },
   "file_extension": ".py",
   "mimetype": "text/x-python",
   "name": "python",
   "nbconvert_exporter": "python",
   "pygments_lexer": "ipython3",
   "version": "3.9.0"
  },
  "orig_nbformat": 4,
  "vscode": {
   "interpreter": {
    "hash": "92cdbcd57a99028d0dad7a6270de01dbb6e4822ec7fc0f38344fde45232db295"
   }
  }
 },
 "nbformat": 4,
 "nbformat_minor": 2
}
