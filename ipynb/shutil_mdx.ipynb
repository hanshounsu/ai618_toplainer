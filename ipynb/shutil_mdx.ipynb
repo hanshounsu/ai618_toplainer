{
 "cells": [
  {
   "cell_type": "code",
   "execution_count": 3,
   "metadata": {},
   "outputs": [],
   "source": [
    "import shutil\n",
    "from pathlib import Path\n",
    "import os\n",
    "PATH_A = './mdx/A/mdx-net-submission/data/test'\n",
    "PATH_B = './mdx/B/mdx-net-submission/data/test'\n",
    "artist_list = ['02_adam', '03_bora', '04_mackenzie', '01_yebit']\n",
    "target_path = './youtube_wav/'"
   ]
  },
  {
   "cell_type": "code",
   "execution_count": null,
   "metadata": {},
   "outputs": [],
   "source": [
    "for artist in artist_list:\n",
    "    wav_list = list(Path(os.path.join(target_path, artist)).glob('*.wav'))\n",
    "    for wav_path in wav_list:\n",
    "        target_folder_path = PATH_B + '_' +  artist.split('_')[-1]\n",
    "        os.makedirs(target_folder_path, exist_ok=True)\n",
    "        target_folder_path = os.path.join(target_folder_path, str(wav_path.stem))\n",
    "        target_file_path = os.path.join(target_folder_path, 'mixture.wav')\n",
    "        os.makedirs(target_folder_path, exist_ok=True)\n",
    "        print(target_folder_path, target_file_path)\n",
    "        # shutil.copyfile(wav_path, target_file_path)"
   ]
  },
  {
   "cell_type": "code",
   "execution_count": 22,
   "metadata": {},
   "outputs": [
    {
     "name": "stdout",
     "output_type": "stream",
     "text": [
      "test_adam\n",
      "145 132\n",
      "＂You Shook Me＂ by Led Zeppelin - Adam Pearce (Acoustic Cover) [NYR-6Mp1dmY] ＂You Shook Me＂ by Led Zeppelin - Adam Pearce (Acoustic Cover) [NYR-6Mp1dmY]\n",
      "＂Stop Draggin' My Heart Around＂ by Stevie Nicks & Tom Petty - Adam Pearce (Acoustic Cover) [kD1Lp5csNMU] ＂Stop Draggin' My Heart Around＂ by Stevie Nicks & Tom Petty - Adam Pearce (Acoustic Cover) [kD1Lp5csNMU]\n",
      "＂A Whiter Shade of Pale＂ by Procol Harum - Adam Pearce (Acoustic Cover) [kxHBrBTypTw] ＂A Whiter Shade of Pale＂ by Procol Harum - Adam Pearce (Acoustic Cover) [kxHBrBTypTw]\n",
      "＂Thank You＂ by Led Zeppelin - Adam Pearce (Acoustic Cover) [FCkDAsPoeUw] ＂Thank You＂ by Led Zeppelin - Adam Pearce (Acoustic Cover) [FCkDAsPoeUw]\n",
      "＂Be Yourself＂ by Audioslave - Adam Pearce (Acoustic Cover) [pAShH1B-hQQ] ＂Be Yourself＂ by Audioslave - Adam Pearce (Acoustic Cover) [pAShH1B-hQQ]\n",
      "＂The Boys are Back in Town＂ by Thin Lizzy  - Adam Pearce (Acoustic Cover) [4P7hxAp-r28] ＂The Boys are Back in Town＂ by Thin Lizzy  - Adam Pearce (Acoustic Cover) [4P7hxAp-r28]\n",
      "＂Take the Money and Run＂ by Steve Miller Band - Adam Pearce (Acoustic Cover) [DVw6PwJL6G8] ＂Take the Money and Run＂ by Steve Miller Band - Adam Pearce (Acoustic Cover) [DVw6PwJL6G8]\n",
      "＂Reach Out＂ by Four Tops - Adam Pearce (Acoustic Cover) [SNDDL-q6zpA] ＂Reach Out＂ by Four Tops - Adam Pearce (Acoustic Cover) [SNDDL-q6zpA]\n",
      "＂Long Cool Woman in a Black Dress＂ by The Hollies - Adam Pearce (Acoustic Cover) [efo8ZGe7GLU] ＂Long Cool Woman in a Black Dress＂ by The Hollies - Adam Pearce (Acoustic Cover) [efo8ZGe7GLU]\n",
      "＂Stone in Love＂ by Journey  - Adam Pearce (Acoustic Cover) [tmWD5biHZJQ] ＂Stone in Love＂ by Journey  - Adam Pearce (Acoustic Cover) [tmWD5biHZJQ]\n",
      "＂Gotta Mean Something＂ by Adam Pearce (Acoustic Performance) [-ljaUYwK_NY] ＂Gotta Mean Something＂ by Adam Pearce (Acoustic Performance) [-ljaUYwK_NY]\n",
      "＂Can't You See＂ by The Marshall Tucker Band - Adam Pearce (Acoustic Cover) [nS1tT2D3WII] ＂Can't You See＂ by The Marshall Tucker Band - Adam Pearce (Acoustic Cover) [nS1tT2D3WII]\n",
      "＂Your Time is Gonna Come＂ by Led Zeppelin - Adam Pearce (Acoustic Cover) [B17RXsaq4No] ＂Your Time is Gonna Come＂ by Led Zeppelin - Adam Pearce (Acoustic Cover) [B17RXsaq4No]\n",
      "＂Drive＂ by Incubus - Adam Pearce (Acoustic Cover) [bf_mnsXcWlQ] ＂Drive＂ by Incubus - Adam Pearce (Acoustic Cover) [bf_mnsXcWlQ]\n",
      "＂Tangerine＂ by Led Zeppelin - Adam Pearce (Acoustic Cover) [LLklMuDpvWc] ＂Tangerine＂ by Led Zeppelin - Adam Pearce (Acoustic Cover) [LLklMuDpvWc]\n",
      "＂Soulshine＂ by The Allman Brothers Band - Adam Pearce (Acoustic Cover) [13qY2I8TgW8] ＂Soulshine＂ by The Allman Brothers Band - Adam Pearce (Acoustic Cover) [13qY2I8TgW8]\n",
      "＂Broken Halos＂ by Chris Stapleton - Adam Pearce (Acoustic Cover) [Dud_8waFhgM] ＂Broken Halos＂ by Chris Stapleton - Adam Pearce (Acoustic Cover) [Dud_8waFhgM]\n",
      "＂Say it Ain't So＂ by Weezer - Adam Pearce (Acoustic Cover) [m7OzKnTzjZg] ＂Say it Ain't So＂ by Weezer - Adam Pearce (Acoustic Cover) [m7OzKnTzjZg]\n",
      "＂My Hero＂ by Foo Fighters - Adam Pearce (Acoustic Cover) [nYRsxPbp_Ds] ＂My Hero＂ by Foo Fighters - Adam Pearce (Acoustic Cover) [nYRsxPbp_Ds]\n",
      "＂I Just Want to Make Love to You＂ By Foghat - Adam Pearce (Acoustic Cover) [rja7QlLRNKE] ＂I Just Want to Make Love to You＂ By Foghat - Adam Pearce (Acoustic Cover) [rja7QlLRNKE]\n",
      "＂Brandy＂ by Looking Glass - Adam Pearce (Acoustic Cover) [CtS7E8fA3Sk] ＂Brandy＂ by Looking Glass - Adam Pearce (Acoustic Cover) [CtS7E8fA3Sk]\n",
      "＂Into the Mystic＂ by Van Morrison - Adam Pearce (Acoustic Cover) [0f9qtM_4q0Y] ＂Into the Mystic＂ by Van Morrison - Adam Pearce (Acoustic Cover) [0f9qtM_4q0Y]\n",
      "＂Here's a Quarter＂ by Travis Tritt - Adam Pearce (Acoustic Cover) [rKh_7aTg1dk] ＂Here's a Quarter＂ by Travis Tritt - Adam Pearce (Acoustic Cover) [rKh_7aTg1dk]\n",
      "＂Wonderful Tonight＂ by Eric Clapton - Adam Pearce (Acoustic Cover) [lhr-xFGIdMs] ＂Wonderful Tonight＂ by Eric Clapton - Adam Pearce (Acoustic Cover) [lhr-xFGIdMs]\n",
      "＂What Is and What Should Never Be＂ by Led Zeppelin - Adam Pearce (Acoustic Cover) [UshbkSXsX0k] ＂What Is and What Should Never Be＂ by Led Zeppelin - Adam Pearce (Acoustic Cover) [UshbkSXsX0k]\n",
      "＂On the Hunt＂ by Lynyrd Skynyrd - Adam Pearce (Acoustic Cover) [Ah6OoWPHQZE] ＂On the Hunt＂ by Lynyrd Skynyrd - Adam Pearce (Acoustic Cover) [Ah6OoWPHQZE]\n",
      "＂In Bloom＂ by Nirvana - Adam Pearce (Acoustic Cover) [8HAxo0XSV28] ＂In Bloom＂ by Nirvana - Adam Pearce (Acoustic Cover) [8HAxo0XSV28]\n",
      "＂Mirrors＂ by Adam Pearce (Acoustic Performance) [O3nrU79Jfh4] ＂Mirrors＂ by Adam Pearce (Acoustic Performance) [O3nrU79Jfh4]\n",
      "＂Parachute＂ by Chris Stapleton - Adam Pearce (Acoustic Cover) [WQqlzLx9Dzs] ＂Parachute＂ by Chris Stapleton - Adam Pearce (Acoustic Cover) [WQqlzLx9Dzs]\n",
      "＂Something＂ by The Beatles - Adam Pearce (Acoustic Cover) [ZoIRbekTUyo] ＂Something＂ by The Beatles - Adam Pearce (Acoustic Cover) [ZoIRbekTUyo]\n",
      "＂In the Blood＂ by Better Than Ezra - Adam Pearce (Acoustic Cover) [hwO4yLVn3Wk] ＂In the Blood＂ by Better Than Ezra - Adam Pearce (Acoustic Cover) [hwO4yLVn3Wk]\n",
      "＂Whole Lotta Rosie＂ by ACDC - Adam Pearce (Acoustic Cover) [VXdmr3J5PhA] ＂Whole Lotta Rosie＂ by ACDC - Adam Pearce (Acoustic Cover) [VXdmr3J5PhA]\n",
      "＂Come Together＂ by The Beatles - Adam Pearce (Acoustic Cover) [Qd_irL83ZBI] ＂Come Together＂ by The Beatles - Adam Pearce (Acoustic Cover) [Qd_irL83ZBI]\n",
      "＂Icarus - Borne on Wings of Steel＂ by Kansas - Adam Pearce (Acoustic Cover) [tWRxMqbrDrk] ＂Icarus - Borne on Wings of Steel＂ by Kansas - Adam Pearce (Acoustic Cover) [tWRxMqbrDrk]\n",
      "＂Don't Let Me Down＂ by The Beatles - Adam Pearce (Acoustic Cover) [zJXPjGbonPE] ＂Don't Let Me Down＂ by The Beatles - Adam Pearce (Acoustic Cover) [zJXPjGbonPE]\n",
      "＂Feel Like Makin' Love＂ by Bad Company - Adam Pearce (Acoustic Cover) [Wk3xU7cxOB0] ＂Feel Like Makin' Love＂ by Bad Company - Adam Pearce (Acoustic Cover) [Wk3xU7cxOB0]\n",
      "＂Perfect Strangers＂ by Deep Purple - Adam Pearce (Acoustic Cover) [1UpxRU7uvfE] ＂Perfect Strangers＂ by Deep Purple - Adam Pearce (Acoustic Cover) [1UpxRU7uvfE]\n",
      "＂(Sittin' On) the Dock of the Bay＂ by Otis Redding - Adam Pearce (Acoustic Cover) [bD9UQ6Whjp0] ＂(Sittin' On) the Dock of the Bay＂ by Otis Redding - Adam Pearce (Acoustic Cover) [bD9UQ6Whjp0]\n",
      "＂Save Me＂ by Shinedown - Adam Pearce (Acoustic Cover) [HU-UGWsWQNo] ＂Save Me＂ by Shinedown - Adam Pearce (Acoustic Cover) [HU-UGWsWQNo]\n",
      "＂Going to California＂ by Led Zeppelin - Adam Pearce (Acoustic Cover) [J5LNGVVZM7c] ＂Going to California＂ by Led Zeppelin - Adam Pearce (Acoustic Cover) [J5LNGVVZM7c]\n",
      "＂Dream On＂ by Aerosmith - Adam Pearce (Acoustic Cover) [FBUFKAya9kE] ＂Dream On＂ by Aerosmith - Adam Pearce (Acoustic Cover) [FBUFKAya9kE]\n",
      "＂Gethsemane＂ from Jesus Christ Superstar - Adam Pearce (Acoustic Cover) [RcjnzNGU2J0] ＂Gethsemane＂ from Jesus Christ Superstar - Adam Pearce (Acoustic Cover) [RcjnzNGU2J0]\n",
      "＂Nothing Compares 2 U＂  by Prince - Adam Pearce (Acoustic Cover) [vXvLl4kiTDs] ＂Nothing Compares 2 U＂  by Prince - Adam Pearce (Acoustic Cover) [vXvLl4kiTDs]\n",
      "＂Roundabout＂ by Yes - Adam Pearce (Acoustic Cover) [I2VsKitxCAM] ＂Roundabout＂ by Yes - Adam Pearce (Acoustic Cover) [I2VsKitxCAM]\n",
      "＂Rooster＂ by Alice in Chains - Adam Pearce (Acoustic Cover) [xSlb85xJLxQ] ＂Rooster＂ by Alice in Chains - Adam Pearce (Acoustic Cover) [xSlb85xJLxQ]\n",
      "＂Maybe I'm Amazed＂ by Paul McCartney - Adam Pearce (Acoustic Cover) [s8e8nBVp3Pk] ＂Maybe I'm Amazed＂ by Paul McCartney - Adam Pearce (Acoustic Cover) [s8e8nBVp3Pk]\n",
      "＂Love Hurts＂ by Nazareth - Adam Pearce (Acoustic Cover) [YyUbtl_SwKE] ＂Love Hurts＂ by Nazareth - Adam Pearce (Acoustic Cover) [YyUbtl_SwKE]\n",
      "＂Baba O'Riley＂ by The Who - Adam Pearce (Acoustic Cover) [2RtLxEVKN1I] ＂Baba O'Riley＂ by The Who - Adam Pearce (Acoustic Cover) [2RtLxEVKN1I]\n",
      "＂Right Down the Line＂ by Gerry Rafferty - Adam Pearce (Acoustic Cover) [ZocVTiDC5fQ] ＂Right Down the Line＂ by Gerry Rafferty - Adam Pearce (Acoustic Cover) [ZocVTiDC5fQ]\n",
      "＂Wish You Were Here＂ by Pink Floyd - Adam Pearce (Acoustic Cover) [-iX4PqPb_7A] ＂Wish You Were Here＂ by Pink Floyd - Adam Pearce (Acoustic Cover) [-iX4PqPb_7A]\n",
      "＂Free Fallin'＂ by Tom Petty - Adam Pearce (Acoustic Cover) [TvTUODg_c20] ＂Free Fallin'＂ by Tom Petty - Adam Pearce (Acoustic Cover) [TvTUODg_c20]\n",
      "＂Breakdown＂ by Tom Petty - Adam Pearce (Acoustic Cover) [6HZ4f35y2SM] ＂Breakdown＂ by Tom Petty - Adam Pearce (Acoustic Cover) [6HZ4f35y2SM]\n",
      "＂So into You＂ by Atlanta Rhythm Section - Adam Pearce (Acoustic Cover) [XNhyv9hBkSk] ＂So into You＂ by Atlanta Rhythm Section - Adam Pearce (Acoustic Cover) [XNhyv9hBkSk]\n",
      "＂D'yer Mak'er＂ by Led Zeppelin - Adam Pearce (Acoustic Cover) [X-fx2G2Jttg] ＂D'yer Mak'er＂ by Led Zeppelin - Adam Pearce (Acoustic Cover) [X-fx2G2Jttg]\n",
      "＂Big Me＂ by Foo Fighters - Adam Pearce (Acoustic Cover) [9Ph302_EZvI] ＂Big Me＂ by Foo Fighters - Adam Pearce (Acoustic Cover) [9Ph302_EZvI]\n",
      "＂Smoke on the Water＂ by Deep Purple - Adam Pearce (Acoustic Cover) [zYpbqijRFBU] ＂Smoke on the Water＂ by Deep Purple - Adam Pearce (Acoustic Cover) [zYpbqijRFBU]\n",
      "＂Cold Hard Bitch＂ by Jet - Adam Pearce (Acoustic Cover) [eFcAGzp0zek] ＂Cold Hard Bitch＂ by Jet - Adam Pearce (Acoustic Cover) [eFcAGzp0zek]\n",
      "＂Creep＂ by Radiohead - Adam Pearce (Acoustic Cover) [nhezFHiwfm0] ＂Creep＂ by Radiohead - Adam Pearce (Acoustic Cover) [nhezFHiwfm0]\n",
      "＂Baby Hold On＂ by Eddie Money - Adam Pearce (Acoustic Cover) [atwvpItpinA] ＂Baby Hold On＂ by Eddie Money - Adam Pearce (Acoustic Cover) [atwvpItpinA]\n",
      "＂Ain't No Sunshine＂ by Bill Withers - Adam Pearce (Acoustic Cover) [lF39dNzPTKE] ＂Ain't No Sunshine＂ by Bill Withers - Adam Pearce (Acoustic Cover) [lF39dNzPTKE]\n",
      "＂Heaven's Dead＂ by Audioslave - Adam Pearce (Acoustic Cover) [10zjJglCAho] ＂Heaven's Dead＂ by Audioslave - Adam Pearce (Acoustic Cover) [10zjJglCAho]\n",
      "＂Cumbersome＂ by Seven Mary Three - Adam Pearce (Acoustic Cover) [pVHSe7xK-Kk] ＂Cumbersome＂ by Seven Mary Three - Adam Pearce (Acoustic Cover) [pVHSe7xK-Kk]\n",
      "＂Roll With the Changes＂ by REO Speedwagon - Adam Pearce (Acoustic Cover) [KNgWOenhrnM] ＂Roll With the Changes＂ by REO Speedwagon - Adam Pearce (Acoustic Cover) [KNgWOenhrnM]\n",
      "＂Billie Jean＂ by Michael Jackson - Adam Pearce (Acoustic Cover in the style of Chris Cornell) [luIe_-2yW38] ＂Billie Jean＂ by Michael Jackson - Adam Pearce (Acoustic Cover in the style of Chris Cornell) [luIe_-2yW38]\n",
      "＂Gimme Back My Bullets＂ by Lynyrd Skynyrd - Adam Pearce (Acoustic Cover) [rCnSL4vzJfU] ＂Gimme Back My Bullets＂ by Lynyrd Skynyrd - Adam Pearce (Acoustic Cover) [rCnSL4vzJfU]\n",
      "＂Brought Me from Hell＂ by Adam Pearce (Acoustic Performance) [jcsVFIWXRYo] ＂Brought Me from Hell＂ by Adam Pearce (Acoustic Performance) [jcsVFIWXRYo]\n"
     ]
    }
   ],
   "source": [
    "# for artist in artist_list:\n",
    "import copy\n",
    "artist = '02_adam'\n",
    "wav_list = list(Path(os.path.join(target_path, artist)).glob('*.wav'))\n",
    "stem_list = [wav.replace('.wav') for wav in wav_list]\n",
    "artist_ = 'results_' + artist.split('_')[-1] + '/baseline'\n",
    "artist__ = 'test_' + artist.split('_')[-1]\n",
    "abc = PATH_B.replace('/test', '')\n",
    "results_list = list(Path(os.path.join(abc, artist_)).glob('*'))\n",
    "print(artist__)\n",
    "test_list = list(Path(os.path.join(abc, artist__)).glob('*'))\n",
    "results_list_ = [x.name for x in results_list]\n",
    "test_list_ = [x.name for x in test_list]\n",
    "print(len(test_list_), len(results_list_))\n",
    "for test_ in test_list_:\n",
    "    for results_ in results_list_:\n",
    "        if test_ == results_:\n",
    "            print(test_, results_)\n",
    "            test_list_.remove(test_)"
   ]
  },
  {
   "cell_type": "code",
   "execution_count": 24,
   "metadata": {},
   "outputs": [
    {
     "name": "stdout",
     "output_type": "stream",
     "text": [
      "79 132\n"
     ]
    }
   ],
   "source": [
    "print(len(test_list_), len(results_list_))"
   ]
  },
  {
   "cell_type": "code",
   "execution_count": null,
   "metadata": {},
   "outputs": [],
   "source": []
  },
  {
   "cell_type": "code",
   "execution_count": null,
   "metadata": {},
   "outputs": [],
   "source": []
  }
 ],
 "metadata": {
  "kernelspec": {
   "display_name": "mdx-submit",
   "language": "python",
   "name": "python3"
  },
  "language_info": {
   "codemirror_mode": {
    "name": "ipython",
    "version": 3
   },
   "file_extension": ".py",
   "mimetype": "text/x-python",
   "name": "python",
   "nbconvert_exporter": "python",
   "pygments_lexer": "ipython3",
   "version": "3.9.16"
  },
  "orig_nbformat": 4
 },
 "nbformat": 4,
 "nbformat_minor": 2
}
